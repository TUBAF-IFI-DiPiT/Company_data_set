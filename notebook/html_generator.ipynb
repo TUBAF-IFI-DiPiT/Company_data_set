{
 "cells": [
  {
   "cell_type": "code",
   "execution_count": null,
   "id": "809f1626",
   "metadata": {},
   "outputs": [],
   "source": [
    "#from pathlib import Path\n",
    "import pandas as pd\n",
    "\n",
    "import panel as pn\n",
    "pn.extension('tabulator')\n",
    "import hvplot.pandas\n"
   ]
  },
  {
   "cell_type": "code",
   "execution_count": null,
   "id": "da63914a",
   "metadata": {},
   "outputs": [],
   "source": [
    "## Local data storage\n",
    "\n",
    "#file_name = \"repository_data_final.csv\"\n",
    "#folder_name = \"data_1.0/\"\n",
    "#data_file = Path.cwd() / \"..\" / folder_name / file_name\n",
    "#df = pd.read_csv(data_file)"
   ]
  },
  {
   "cell_type": "code",
   "execution_count": null,
   "id": "7b45ea2d",
   "metadata": {},
   "outputs": [],
   "source": [
    "# web based data storage\n",
    "\n",
    "df = pd.read_csv(\"https://raw.githubusercontent.com/TUBAF-IFI-DiPiT/Company_data_set/main/repository_data_final.csv\")"
   ]
  },
  {
   "cell_type": "code",
   "execution_count": null,
   "id": "b5794345",
   "metadata": {},
   "outputs": [],
   "source": [
    "df_summary = df.copy()\n",
    "\n",
    "max_contributers = 10\n",
    "df_summary.loc[(df_summary.weekly_cc_max > max_contributers),'weekly_cc_max'] = max_contributers + 1\n",
    "\n",
    "max_duration = 10\n",
    "df_summary.loc[(df_summary.effective_weeks > max_duration),'effective_weeks'] = max_duration + 1\n",
    "df_summary['relevant'] = False\n",
    "\n",
    "df_summary.loc[(df_summary.weekly_cc_max <= max_contributers) & \n",
    "       (df_summary.effective_weeks <= max_duration) &\n",
    "       (df_summary.commit_greater1_exist == True), \"relevant\"] = True\n",
    "\n",
    "df_summary = df_summary[df_summary.relevant]"
   ]
  },
  {
   "attachments": {},
   "cell_type": "markdown",
   "id": "3501e52c",
   "metadata": {},
   "source": [
    "## Preparation"
   ]
  },
  {
   "cell_type": "code",
   "execution_count": null,
   "id": "b38e5f07",
   "metadata": {},
   "outputs": [],
   "source": [
    "if 'data' not in pn.state.cache.keys():\n",
    "    pn.state.cache['data'] = df_summary.copy()\n",
    "else: \n",
    "    df_summary = pn.state.cache['data']\n",
    "    \n",
    "# Make DataFrame Pipeline Interactive\n",
    "idf = df_summary.interactive()"
   ]
  },
  {
   "attachments": {},
   "cell_type": "markdown",
   "id": "daea6c54",
   "metadata": {},
   "source": [
    "## Part 1: Diagramm"
   ]
  },
  {
   "cell_type": "code",
   "execution_count": null,
   "id": "86539603",
   "metadata": {},
   "outputs": [],
   "source": [
    "param = df_summary.organization_name.unique().tolist()\n",
    "\n",
    "select_org = pn.widgets.Select(\n",
    "    name='organization_name',\n",
    "    value=\"Microsoft\",\n",
    "    options=param\n",
    ")"
   ]
  },
  {
   "cell_type": "code",
   "execution_count": null,
   "id": "27414712",
   "metadata": {},
   "outputs": [],
   "source": [
    "data_pipeline_selectcomp_basic = (\n",
    "        idf[idf.organization_name == select_org]\\\n",
    "           .pivot_table(values='repo_name', index='weekly_cc_max', \n",
    "                        columns='effective_weeks', \n",
    "                        aggfunc='count')\\\n",
    "           .unstack()\\\n",
    "           .reset_index()\\\n",
    "           .rename(columns={0: \"count\"})\n",
    ")\n",
    "\n",
    "data_pipeline_selectcomp_basic.head()"
   ]
  },
  {
   "cell_type": "code",
   "execution_count": null,
   "id": "71a758c6",
   "metadata": {},
   "outputs": [],
   "source": [
    "heatmap = data_pipeline_selectcomp_basic.hvplot.heatmap(x='weekly_cc_max', y='effective_weeks', C='count', \n",
    "                                            xlim=(0, max_contributers+1), ylim =(0, max_duration+1),\n",
    "                                            title='Number of relevant repositories (effective contributors < 10 and effective duration < 10 weeks) in data set', \n",
    "                                            )\n",
    "\n",
    "heatmap"
   ]
  },
  {
   "attachments": {},
   "cell_type": "markdown",
   "id": "84836514",
   "metadata": {},
   "source": [
    "## Part 2: Parameter diagram"
   ]
  },
  {
   "cell_type": "code",
   "execution_count": null,
   "id": "a3f29a23",
   "metadata": {},
   "outputs": [],
   "source": [
    "param = ['stars',\n",
    "       'size_kB', 'contributor_count', 'branch_count', 'commit_count',\n",
    "       'commit_comment_count', 'last_commit_date', 'labels_count', 'tag_count',\n",
    "       'milestone_count', 'pullrequest_count', 'pullrequest_review_count',\n",
    "       'release_count', 'workflow_count', 'readme_length', 'issues_count',\n",
    "       'issues_comment_count', 'watchers_count', 'project_duration_days', \n",
    "       'project_duration_weeks', \n",
    "       'creation_date_year', 'subscribers_count', 'forks_count',\n",
    "       'effective_weeks', 'weekly_cc_max', 'weekly_cc_mean', 'weekly_cc_std',\n",
    "       'weekly_cc_mean_normalized']"
   ]
  },
  {
   "cell_type": "code",
   "execution_count": null,
   "id": "247c4a7b",
   "metadata": {},
   "outputs": [],
   "source": [
    "data_pipeline_selectcomp = (\n",
    "     idf[idf.organization_name == select_org]\\\n",
    "        .groupby(\"organization_name\")\\\n",
    "        .agg(\n",
    "              relevant_repositories=('contributor_count', 'count'), \n",
    "              branches_exist_in =('branch_exist', 'sum'),\n",
    "              issues_exist_in =('issues_exist', 'sum'),\n",
    "              pr_exist_in =('pr_exist', 'sum'),\n",
    "              issues_commment_exist_in =('issues_commment_exist', 'sum'),\n",
    "              pr_review_exist_in =('pr_review_exist', 'sum'),\n",
    "        )\\\n",
    "        .transpose()\n",
    ")"
   ]
  },
  {
   "cell_type": "code",
   "execution_count": null,
   "id": "c4a3fd95",
   "metadata": {},
   "outputs": [],
   "source": [
    "company_table = data_pipeline_selectcomp.pipe(pn.widgets.Tabulator) \n",
    "\n",
    "company_table"
   ]
  },
  {
   "cell_type": "code",
   "execution_count": null,
   "id": "68daca29",
   "metadata": {},
   "outputs": [],
   "source": [
    "data_pipeline_selectcomp_all = (\n",
    "     idf[idf.organization_name == select_org]\n",
    ")"
   ]
  },
  {
   "cell_type": "code",
   "execution_count": null,
   "id": "736d6d28",
   "metadata": {},
   "outputs": [],
   "source": [
    "company_table_all = data_pipeline_selectcomp_all.pipe(pn.widgets.Tabulator) "
   ]
  },
  {
   "attachments": {},
   "cell_type": "markdown",
   "id": "d98dc394",
   "metadata": {},
   "source": [
    "## Generate Dashboard"
   ]
  },
  {
   "cell_type": "code",
   "execution_count": null,
   "id": "77581781",
   "metadata": {},
   "outputs": [],
   "source": [
    "template = pn.template.FastListTemplate(\n",
    "    title = \"DiP-iT Dataset\",\n",
    "    sidebar =[pn.pane.Markdown(\"# Abstract\"),\n",
    "              pn.pane.Markdown(\"This page illustrates the usage of DiP-iT data set covering 17000 repositories of industrial Github repositories. The collection includes project parameters of 17 companies and was generated in 2021.\"),\n",
    "              pn.pane.Markdown(\"An overview about the contained parameters is provided [here](https://github.com/TUBAF-IFI-DiPiT/github2pandas_company_evaluation/tree/main). We used the [github2pandas Package](https://github.com/TUBAF-IFI-DiPiT/github2pandas) for generating the data set.\"),\n",
    "              pn.pane.Markdown(\"# Company selection\"),\n",
    "              pn.pane.Markdown(\"The dashboard filters the repositories and depicts the distributions of contributors and duration for smaller projects.\"),\n",
    "              select_org,\n",
    "              pn.pane.Markdown(\"# Data set\"),\n",
    "              pn.pane.Markdown(\"The whole data set can be downloaded [here](https://raw.githubusercontent.com/TUBAF-IFI-DiPiT/Company_data_set/main/repository_data_final.csv)\"),\n",
    "             ],\n",
    "    main=[pn.Row\n",
    "            (\n",
    "            pn.Column(\n",
    "               heatmap.panel(width=600, height=500, margin=(0, 100, 0, 20))\n",
    "               ),\n",
    "            pn.Column(\n",
    "               company_table.panel(width=1000)\n",
    "               )\n",
    "            ),\n",
    "            pn.Row\n",
    "            (\n",
    "               company_table_all.panel(width=1000, height=500)\n",
    "            )  \n",
    "        ]\n",
    ")\n",
    "\n",
    "#template.show()\n",
    "template.servable()"
   ]
  }
 ],
 "metadata": {
  "kernelspec": {
   "display_name": "Python 3 (ipykernel)",
   "language": "python",
   "name": "python3"
  },
  "language_info": {
   "codemirror_mode": {
    "name": "ipython",
    "version": 3
   },
   "file_extension": ".py",
   "mimetype": "text/x-python",
   "name": "python",
   "nbconvert_exporter": "python",
   "pygments_lexer": "ipython3",
   "version": "3.10.6"
  }
 },
 "nbformat": 4,
 "nbformat_minor": 5
}
